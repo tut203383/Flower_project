{
 "cells": [
  {
   "cell_type": "markdown",
   "metadata": {
    "id": "8zrPTVYkGNlN"
   },
   "source": [
    "# Deep Learning and Computer Vision\n",
    "### Encoder-Decoder - Transposed Convolutions\n",
    "\n",
    "## Yong Thorvue \n",
    "yong.thorvue@etu.univ-st-etienne.fr\n",
    "\n",
    "\n"
   ]
  },
  {
   "cell_type": "markdown",
   "metadata": {
    "id": "7oY4VcmpG5A-"
   },
   "source": [
    "The aim of this exercise is to code a convolution auto-encoder to create digit images by using the MNIST dataset."
   ]
  },
  {
   "cell_type": "markdown",
   "metadata": {
    "id": "A8tmXvUVI6pB"
   },
   "source": [
    "Start from import the dependencies, If the dependencies have not been installed, pip install will be conducted. "
   ]
  },
  {
   "cell_type": "code",
   "execution_count": 14,
   "metadata": {},
   "outputs": [],
   "source": [
    "import tensorflow"
   ]
  },
  {
   "cell_type": "code",
   "execution_count": 15,
   "metadata": {
    "executionInfo": {
     "elapsed": 3,
     "status": "ok",
     "timestamp": 1680030053260,
     "user": {
      "displayName": "THORVUE YONG",
      "userId": "10048581360266999222"
     },
     "user_tz": -120
    },
    "id": "FTGG9MVbaau_"
   },
   "outputs": [],
   "source": [
    "from tensorflow.keras.models import Sequential\n",
    "from tensorflow.keras.layers import Dense, Conv2D, Flatten\n",
    "from keras.optimizers import Adam\n",
    "from keras.preprocessing.image import ImageDataGenerator\n",
    "from keras.layers import Dense, Conv2D, Conv2DTranspose, Dropout, Reshape, MaxPooling2D, Input, Flatten\n",
    "from keras.datasets import mnist\n",
    "from keras.utils import np_utils\n",
    "import matplotlib.pyplot as plt\n",
    "import numpy as np"
   ]
  },
  {
   "cell_type": "markdown",
   "metadata": {
    "id": "vjCZClhdI0iX"
   },
   "source": [
    "Load the dataset and check the shape of data"
   ]
  },
  {
   "cell_type": "code",
   "execution_count": 16,
   "metadata": {
    "colab": {
     "base_uri": "https://localhost:8080/"
    },
    "executionInfo": {
     "elapsed": 3,
     "status": "ok",
     "timestamp": 1680030053260,
     "user": {
      "displayName": "THORVUE YONG",
      "userId": "10048581360266999222"
     },
     "user_tz": -120
    },
    "id": "FoewwC7iY7fb",
    "outputId": "0969f6c6-eeab-4079-a23c-63b40b59b71e"
   },
   "outputs": [
    {
     "data": {
      "text/plain": [
       "(60000, 28, 28)"
      ]
     },
     "execution_count": 16,
     "metadata": {},
     "output_type": "execute_result"
    }
   ],
   "source": [
    "(X_train, y_train), (X_test, y_test) = mnist.load_data()\n",
    "# y_train[10].shape\n",
    "X_train.shape\n"
   ]
  },
  {
   "cell_type": "code",
   "execution_count": 17,
   "metadata": {
    "executionInfo": {
     "elapsed": 479,
     "status": "ok",
     "timestamp": 1680030053737,
     "user": {
      "displayName": "THORVUE YONG",
      "userId": "10048581360266999222"
     },
     "user_tz": -120
    },
    "id": "eDU1nbziZRO9"
   },
   "outputs": [],
   "source": [
    "# Imaging preprocessing\n",
    "X_train = X_train.astype('float32') / 255.\n",
    "X_test = X_test.astype('float32') / 255.\n",
    "X_train = X_train.reshape(-1, 28, 28, 1)\n",
    "X_test = X_test.reshape(-1, 28, 28, 1)"
   ]
  },
  {
   "cell_type": "markdown",
   "metadata": {
    "id": "ZiukuJ-MLAMx"
   },
   "source": [
    "1. Create and train a simple convolutional auto-encoder with :\n",
    "- 3 encoding convolutional layers with max pooling after the two first conv. layers\n",
    "- 1 dense layer (embedding space)\n",
    "- 1 dense layer (49 neurons)\n",
    "- Reshape (7 x7)\n",
    "- 3 decoding transposed convolutional layers (use \"strides\" for upsampling)\n",
    "- 1 convolutional layer (sigmoid function as activation)\n",
    "\n",
    "The loss function is the mean square error between the input and the output(0.01 would be not too bad for the validation set)."
   ]
  },
  {
   "cell_type": "code",
   "execution_count": 20,
   "metadata": {
    "colab": {
     "base_uri": "https://localhost:8080/"
    },
    "executionInfo": {
     "elapsed": 143280,
     "status": "ok",
     "timestamp": 1680030197016,
     "user": {
      "displayName": "THORVUE YONG",
      "userId": "10048581360266999222"
     },
     "user_tz": -120
    },
    "id": "F9WukWySasKQ",
    "outputId": "b5d35a23-2090-462d-9f84-9c2e52ac4282"
   },
   "outputs": [
    {
     "name": "stdout",
     "output_type": "stream",
     "text": [
      "Epoch 1/5\n",
      "3750/3750 [==============================] - 151s 40ms/step - loss: 0.0275 - val_loss: 0.0172\n",
      "Epoch 2/5\n",
      "3750/3750 [==============================] - 154s 41ms/step - loss: 0.0154 - val_loss: 0.0135\n",
      "Epoch 3/5\n",
      "3750/3750 [==============================] - 147s 39ms/step - loss: 0.0132 - val_loss: 0.0120\n",
      "Epoch 4/5\n",
      "3750/3750 [==============================] - 153s 41ms/step - loss: 0.0116 - val_loss: 0.0108\n",
      "Epoch 5/5\n",
      "3750/3750 [==============================] - 153s 41ms/step - loss: 0.0107 - val_loss: 0.0102\n"
     ]
    },
    {
     "data": {
      "text/plain": [
       "<keras.callbacks.History at 0x283e42fd430>"
      ]
     },
     "execution_count": 20,
     "metadata": {},
     "output_type": "execute_result"
    }
   ],
   "source": [
    "model = Sequential()\n",
    "model.add(Conv2D(32, (3,3), activation= 'relu'))\n",
    "model.add(MaxPooling2D((2,2)))\n",
    "model.add(Conv2D(64, (3,3), activation= 'relu'))\n",
    "model.add(MaxPooling2D((2,2)))\n",
    "model.add(Conv2D(64, (3,3), activation= 'relu'))\n",
    "\n",
    "model.add(Flatten())\n",
    "model.add(Dense(64, activation='relu'))\n",
    "model.add(Dense(49, activation='relu'))\n",
    "model.add(Reshape((7,7,1)))\n",
    "\n",
    "model.add(Conv2DTranspose(64,(3,3), strides=2, activation= 'relu', padding='same'))\n",
    "model.add(Conv2DTranspose(64,(3,3), strides=2, activation= 'relu', padding='same'))\n",
    "model.add(Conv2DTranspose(32,(3,3), activation = 'relu', padding='same'))\n",
    "model.add(Conv2D(1,(3,3), activation = 'sigmoid', padding='same'))\n",
    "\n",
    "model.compile(loss ='mse', optimizer='Adam')\n",
    "model.fit(X_train, X_train, epochs=5, batch_size=16, verbose=1, validation_data=(X_test, X_test), shuffle=True)"
   ]
  },
  {
   "cell_type": "markdown",
   "metadata": {
    "id": "neliSOhXLlT4"
   },
   "source": [
    "2. Observe the quality of the output(reconstruct image) for some test images.\n",
    "\n",
    "According to the results, the reconstructed images poorly match the original images for some images, but they are still identifiable. The reason would be that the hidden layer in our model is not enough to capture the complex non-linear patterns in MNSIT digits data."
   ]
  },
  {
   "cell_type": "code",
   "execution_count": 21,
   "metadata": {
    "colab": {
     "base_uri": "https://localhost:8080/",
     "height": 262
    },
    "executionInfo": {
     "elapsed": 3006,
     "status": "ok",
     "timestamp": 1680030200012,
     "user": {
      "displayName": "THORVUE YONG",
      "userId": "10048581360266999222"
     },
     "user_tz": -120
    },
    "id": "wqxgMskhZ478",
    "outputId": "be430660-219e-4d08-a2be-0093c87ba796"
   },
   "outputs": [
    {
     "name": "stdout",
     "output_type": "stream",
     "text": [
      "313/313 [==============================] - 8s 25ms/step\n"
     ]
    },
    {
     "data": {
      "image/png": "[encoded data removed]",
      "text/plain": [
       "<Figure size 1440x288 with 20 Axes>"
      ]
     },
     "metadata": {
      "needs_background": "light"
     },
     "output_type": "display_data"
    }
   ],
   "source": [
    "# Evaluate the model on the test set\n",
    "decoded_imgs = model.predict(X_test)\n",
    "\n",
    "# Display some test images and their reconstructions\n",
    "n = 10 \n",
    "plt.figure(figsize=(20, 4))\n",
    "for i in range(n):\n",
    "    # Display original images\n",
    "    ax = plt.subplot(2, n, i + 1)\n",
    "    plt.imshow(X_test[i].reshape(28, 28))\n",
    "    plt.gray()\n",
    "    ax.get_xaxis().set_visible(False)\n",
    "    ax.get_yaxis().set_visible(False)\n",
    "\n",
    "    # Display reconstructed images\n",
    "    ax = plt.subplot(2, n, i + n + 1)\n",
    "    plt.imshow(decoded_imgs[i].reshape(28, 28))\n",
    "    plt.gray()\n",
    "    ax.get_xaxis().set_visible(False)\n",
    "    ax.get_yaxis().set_visible(False)\n",
    "plt.show()"
   ]
  },
  {
   "cell_type": "markdown",
   "metadata": {
    "id": "syIpKSmJOHkB"
   },
   "source": [
    "3. Encode two images from two different digits. Compute the average of two 49-D vectors in the\n",
    "latent space. Decode this average. Compare with the average of the two decoded images."
   ]
  },
  {
   "cell_type": "code",
   "execution_count": 22,
   "metadata": {
    "colab": {
     "base_uri": "https://localhost:8080/"
    },
    "executionInfo": {
     "elapsed": 5120,
     "status": "ok",
     "timestamp": 1680030205129,
     "user": {
      "displayName": "THORVUE YONG",
      "userId": "10048581360266999222"
     },
     "user_tz": -120
    },
    "id": "Ujjhz-buasP8",
    "outputId": "e962396f-2952-4b39-d704-3f7d9d98ab31"
   },
   "outputs": [
    {
     "name": "stdout",
     "output_type": "stream",
     "text": [
      "1875/1875 [==============================] - 8s 4ms/step\n"
     ]
    }
   ],
   "source": [
    "from keras import Model\n",
    "\n",
    "model_encode = Model(inputs=model.input, outputs=model.layers[7].output)\n",
    "ypred = model_encode.predict(X_train)\n",
    "\n",
    "model_decode = Model(inputs=model.layers[8].input, outputs=model.output)"
   ]
  },
  {
   "cell_type": "code",
   "execution_count": 23,
   "metadata": {
    "colab": {
     "base_uri": "https://localhost:8080/"
    },
    "executionInfo": {
     "elapsed": 20,
     "status": "ok",
     "timestamp": 1680030205130,
     "user": {
      "displayName": "THORVUE YONG",
      "userId": "10048581360266999222"
     },
     "user_tz": -120
    },
    "id": "ObqMop5iaNW_",
    "outputId": "bbb6c029-da34-4e9d-a31e-89769cf4cc43"
   },
   "outputs": [
    {
     "data": {
      "text/plain": [
       "(60000, 49)"
      ]
     },
     "execution_count": 23,
     "metadata": {},
     "output_type": "execute_result"
    }
   ],
   "source": [
    "# Check the shape of data\n",
    "ypred.shape"
   ]
  },
  {
   "cell_type": "code",
   "execution_count": 24,
   "metadata": {
    "colab": {
     "base_uri": "https://localhost:8080/",
     "height": 1000
    },
    "executionInfo": {
     "elapsed": 23158,
     "status": "ok",
     "timestamp": 1680030228270,
     "user": {
      "displayName": "THORVUE YONG",
      "userId": "10048581360266999222"
     },
     "user_tz": -120
    },
    "id": "2az6fX9QaNaP",
    "outputId": "58637ba8-4a0e-4da1-d643-d031cc81fb3d"
   },
   "outputs": [
    {
     "data": {
      "image/png": "[encoded data removed]",
      "text/plain": [
       "<Figure size 432x288 with 1 Axes>"
      ]
     },
     "metadata": {
      "needs_background": "light"
     },
     "output_type": "display_data"
    },
    {
     "data": {
      "image/png": "[encoded data removed]",
      "text/plain": [
       "<Figure size 432x288 with 1 Axes>"
      ]
     },
     "metadata": {
      "needs_background": "light"
     },
     "output_type": "display_data"
    },
    {
     "name": "stdout",
     "output_type": "stream",
     "text": [
      "1875/1875 [==============================] - 42s 22ms/step\n"
     ]
    },
    {
     "data": {
      "image/png": "[encoded data removed]",
      "text/plain": [
       "<Figure size 432x288 with 1 Axes>"
      ]
     },
     "metadata": {
      "needs_background": "light"
     },
     "output_type": "display_data"
    },
    {
     "name": "stdout",
     "output_type": "stream",
     "text": [
      "1875/1875 [==============================] - 46s 24ms/step\n",
      "1875/1875 [==============================] - 46s 25ms/step\n"
     ]
    },
    {
     "data": {
      "image/png": "[encoded data removed]",
      "text/plain": [
       "<Figure size 432x288 with 1 Axes>"
      ]
     },
     "metadata": {
      "needs_background": "light"
     },
     "output_type": "display_data"
    }
   ],
   "source": [
    "i=100\n",
    "j=120\n",
    "\n",
    "plt.imshow(X_train[i].reshape(28,28))\n",
    "plt.show()\n",
    "plt.imshow(X_train[j].reshape(28,28))\n",
    "plt.show()\n",
    "out1=model_decode.predict(0.5*(ypred))[j]\n",
    "plt.imshow(out1.reshape(28,28))\n",
    "plt.show()\n",
    "\n",
    "pred1 = model.predict(X_train)[i]\n",
    "pred2 = model.predict(X_train)[j]\n",
    "out2=0.5*(pred1+pred2)\n",
    "plt.imshow(out2.reshape(28,28))\n",
    "plt.show()"
   ]
  },
  {
   "cell_type": "markdown",
   "metadata": {
    "id": "QvaH8OhNOgzt"
   },
   "source": [
    "4. Transform your auto-encoder into a denoising network.\n",
    "\n",
    "The noise data was defined in the following lines:"
   ]
  },
  {
   "cell_type": "code",
   "execution_count": 25,
   "metadata": {
    "executionInfo": {
     "elapsed": 1811,
     "status": "ok",
     "timestamp": 1680030230070,
     "user": {
      "displayName": "THORVUE YONG",
      "userId": "10048581360266999222"
     },
     "user_tz": -120
    },
    "id": "fBSYbl52dbCa"
   },
   "outputs": [],
   "source": [
    "noise_factor = 0.5\n",
    "X_train_noisy = X_train + noise_factor * np.random.normal(loc=0.0,scale=1.0, size=X_train.shape)\n",
    "X_test_noisy = X_test + noise_factor * np.random.normal(loc=0.0,scale=1.0, size=X_test.shape)\n",
    "X_train_noisy = np.clip(X_train_noisy, 0., 1.)\n",
    "X_test_noisy = np.clip(X_test_noisy, 0., 1.)"
   ]
  },
  {
   "cell_type": "code",
   "execution_count": 28,
   "metadata": {
    "colab": {
     "base_uri": "https://localhost:8080/"
    },
    "executionInfo": {
     "elapsed": 143557,
     "status": "ok",
     "timestamp": 1680030373623,
     "user": {
      "displayName": "THORVUE YONG",
      "userId": "10048581360266999222"
     },
     "user_tz": -120
    },
    "id": "0kCSSId4CY9V",
    "outputId": "e49e586a-5c0d-48aa-a5f8-09cdc3b18121"
   },
   "outputs": [
    {
     "name": "stdout",
     "output_type": "stream",
     "text": [
      "Epoch 1/5\n",
      "3750/3750 [==============================] - 157s 41ms/step - loss: 0.0955 - val_loss: 0.0911\n",
      "Epoch 2/5\n",
      "3750/3750 [==============================] - 158s 42ms/step - loss: 0.0901 - val_loss: 0.0892\n",
      "Epoch 3/5\n",
      "3750/3750 [==============================] - 158s 42ms/step - loss: 0.0890 - val_loss: 0.0884\n",
      "Epoch 4/5\n",
      "3750/3750 [==============================] - 172s 46ms/step - loss: 0.0883 - val_loss: 0.0881\n",
      "Epoch 5/5\n",
      "3750/3750 [==============================] - 156s 42ms/step - loss: 0.0879 - val_loss: 0.0876\n"
     ]
    },
    {
     "data": {
      "text/plain": [
       "<keras.callbacks.History at 0x28380099ac0>"
      ]
     },
     "execution_count": 28,
     "metadata": {},
     "output_type": "execute_result"
    }
   ],
   "source": [
    "model = Sequential()\n",
    "model.add(Conv2D(32, (3,3), activation= 'relu'))\n",
    "model.add(MaxPooling2D((2,2)))\n",
    "model.add(Conv2D(64, (3,3), activation= 'relu'))\n",
    "model.add(MaxPooling2D((2,2)))\n",
    "model.add(Conv2D(64, (3,3), activation= 'relu'))\n",
    "model.add(Flatten())\n",
    "model.add(Dense(64, activation='relu'))\n",
    "model.add(Dense(49, activation='relu'))\n",
    "model.add(Reshape((7,7,1)))\n",
    "model.add(Conv2DTranspose(64,(3,3), strides=2, activation= 'relu', padding='same'))\n",
    "model.add(Conv2DTranspose(64,(3,3), strides=2, activation= 'relu', padding='same'))\n",
    "model.add(Conv2DTranspose(32,(3,3), activation = 'relu', padding='same'))\n",
    "model.add(Conv2D(1,(3,3), activation = 'sigmoid', padding='same'))\n",
    "\n",
    "model.compile(loss ='mse', optimizer='Adam')\n",
    "model.fit(X_train_noisy, X_train_noisy, epochs=5, batch_size=16, verbose=1, validation_data=(X_test_noisy, X_test_noisy), shuffle=True)\n"
   ]
  },
  {
   "cell_type": "code",
   "execution_count": 29,
   "metadata": {
    "colab": {
     "base_uri": "https://localhost:8080/",
     "height": 262
    },
    "executionInfo": {
     "elapsed": 2653,
     "status": "ok",
     "timestamp": 1680030376272,
     "user": {
      "displayName": "THORVUE YONG",
      "userId": "10048581360266999222"
     },
     "user_tz": -120
    },
    "id": "UlywOC6cCZN1",
    "outputId": "c9b50dee-f65a-40ca-b4ae-bf50c2fa6818"
   },
   "outputs": [
    {
     "name": "stdout",
     "output_type": "stream",
     "text": [
      "313/313 [==============================] - 8s 24ms/step\n"
     ]
    },
    {
     "data": {
      "image/png": "[encoded data removed]",
      "text/plain": [
       "<Figure size 1440x288 with 20 Axes>"
      ]
     },
     "metadata": {
      "needs_background": "light"
     },
     "output_type": "display_data"
    }
   ],
   "source": [
    "# Evaluate the model on the test set\n",
    "# Reconstruct images\n",
    "noise_imgs = model.predict(X_test)\n",
    "\n",
    "# Display some test images and their reconstructions\n",
    "n = 10 \n",
    "plt.figure(figsize=(20, 4))\n",
    "for i in range(n):\n",
    "    # Display original images\n",
    "    ax = plt.subplot(2, n, i + 1)\n",
    "    plt.imshow(X_test[i].reshape(28, 28))\n",
    "    plt.gray()\n",
    "    ax.get_xaxis().set_visible(False)\n",
    "    ax.get_yaxis().set_visible(False)\n",
    "\n",
    "    # Display reconstructed images\n",
    "    ax = plt.subplot(2, n, i + n + 1)\n",
    "    plt.imshow(noise_imgs[i].reshape(28, 28))\n",
    "    plt.gray()\n",
    "    ax.get_xaxis().set_visible(False)\n",
    "    ax.get_yaxis().set_visible(False)\n",
    "plt.show()"
   ]
  },
  {
   "cell_type": "code",
   "execution_count": 30,
   "metadata": {
    "colab": {
     "base_uri": "https://localhost:8080/"
    },
    "executionInfo": {
     "elapsed": 5010,
     "status": "ok",
     "timestamp": 1680030381279,
     "user": {
      "displayName": "THORVUE YONG",
      "userId": "10048581360266999222"
     },
     "user_tz": -120
    },
    "id": "ULak-KITCZQT",
    "outputId": "3bfe3f3f-622d-4049-c52a-38771b99f12b"
   },
   "outputs": [
    {
     "name": "stdout",
     "output_type": "stream",
     "text": [
      "1875/1875 [==============================] - 7s 4ms/step\n"
     ]
    }
   ],
   "source": [
    "from keras import Model\n",
    "\n",
    "model_encode = Model(inputs=model.input, outputs=model.layers[7].output)\n",
    "ypred = model_encode.predict(X_train)\n",
    "\n",
    "model_decode = Model(inputs=model.layers[8].input, outputs=model.output)"
   ]
  },
  {
   "cell_type": "code",
   "execution_count": 31,
   "metadata": {
    "colab": {
     "base_uri": "https://localhost:8080/",
     "height": 1000
    },
    "executionInfo": {
     "elapsed": 21133,
     "status": "ok",
     "timestamp": 1680030402400,
     "user": {
      "displayName": "THORVUE YONG",
      "userId": "10048581360266999222"
     },
     "user_tz": -120
    },
    "id": "Qz4zpFhOP7g2",
    "outputId": "f1248a70-c1e6-4772-9035-65d8e02b5ee3"
   },
   "outputs": [
    {
     "data": {
      "image/png": "[encoded data removed]",
      "text/plain": [
       "<Figure size 432x288 with 1 Axes>"
      ]
     },
     "metadata": {
      "needs_background": "light"
     },
     "output_type": "display_data"
    },
    {
     "data": {
      "image/png": "[encoded data removed]",
      "text/plain": [
       "<Figure size 432x288 with 1 Axes>"
      ]
     },
     "metadata": {
      "needs_background": "light"
     },
     "output_type": "display_data"
    },
    {
     "name": "stdout",
     "output_type": "stream",
     "text": [
      "1875/1875 [==============================] - 44s 23ms/step\n"
     ]
    },
    {
     "data": {
      "image/png": "[encoded data removed]",
      "text/plain": [
       "<Figure size 432x288 with 1 Axes>"
      ]
     },
     "metadata": {
      "needs_background": "light"
     },
     "output_type": "display_data"
    },
    {
     "name": "stdout",
     "output_type": "stream",
     "text": [
      "1875/1875 [==============================] - 50s 27ms/step\n",
      "1875/1875 [==============================] - 74s 39ms/step\n"
     ]
    },
    {
     "data": {
      "image/png": "[encoded data removed]",
      "text/plain": [
       "<Figure size 432x288 with 1 Axes>"
      ]
     },
     "metadata": {
      "needs_background": "light"
     },
     "output_type": "display_data"
    }
   ],
   "source": [
    "i=100\n",
    "j=120\n",
    "\n",
    "plt.imshow(X_train[i].reshape(28,28))\n",
    "plt.show()\n",
    "plt.imshow(X_train[j].reshape(28,28))\n",
    "plt.show()\n",
    "out1=model_decode.predict(0.5*(ypred))[j]\n",
    "plt.imshow(out1.reshape(28,28))\n",
    "plt.show()\n",
    "\n",
    "pred1 =model.predict(X_train)[i]\n",
    "pred2 =model.predict(X_train)[j]\n",
    "out2=0.5*(pred1+pred2)\n",
    "plt.imshow(out2.reshape(28,28))\n",
    "plt.show()"
   ]
  }
 ],
 "metadata": {
  "accelerator": "GPU",
  "colab": {
   "authorship_tag": "ABX9TyPdCgZMPpjx7JniBalfsh1t",
   "provenance": []
  },
  "gpuClass": "standard",
  "kernelspec": {
   "display_name": "Python 3",
   "language": "python",
   "name": "python3"
  },
  "language_info": {
   "codemirror_mode": {
    "name": "ipython",
    "version": 3
   },
   "file_extension": ".py",
   "mimetype": "text/x-python",
   "name": "python",
   "nbconvert_exporter": "python",
   "pygments_lexer": "ipython3",
   "version": "3.8.5"
  }
 },
 "nbformat": 4,
 "nbformat_minor": 4
}
